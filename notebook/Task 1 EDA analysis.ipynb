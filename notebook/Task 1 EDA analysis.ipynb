{
 "cells": [
  {
   "cell_type": "code",
   "execution_count": null,
   "metadata": {},
   "outputs": [
    {
     "name": "stdout",
     "output_type": "stream",
     "text": [
      "Note: you may need to restart the kernel to use updated packages.\n"
     ]
    },
    {
     "name": "stderr",
     "output_type": "stream",
     "text": [
      "ERROR: Could not open requirements file: [Errno 2] No such file or directory: 'requirements.txt'\n"
     ]
    }
   ],
   "source": [
    "%pip install -r requirements.txt\n",
    "#!/usr/bin/env python3\n",
    "%pip install pandas matplotlib statsmodels yfinance\n",
    "\n",
    "import pandas as pd\n",
    "import matplotlib.pyplot as plt\n",
    "\n",
    "from config import TICKERS, START_DATE, END_DATE, PROCESSED_DIR, FIGURES_DIR, ROLLING_WINDOW\n",
    "from scripts.utils import (\n",
    "    download_data,\n",
    "    clean_data,\n",
    "    compute_returns,\n",
    "    rolling_stats,\n",
    "    detect_outliers,\n",
    "    adf_test,\n",
    "    value_at_risk,\n",
    "    sharpe_ratio,\n",
    "    plot_series,\n",
    "    save_dataframe\n",
    ")\n",
    "\n",
    "# Cell 2: Download & Clean Data\n",
    "raw = download_data(TICKERS, START_DATE, END_DATE)\n",
    "df = clean_data(raw)\n",
    "df.head()\n",
    "\n",
    "# Cell 3: Save Cleaned Data\n",
    "save_dataframe(df, PROCESSED_DIR / 'cleaned_adj_close.csv')\n",
    "\n",
    "# Cell 4: Summary Stats\n",
    "df.describe()\n",
    "\n",
    "# Cell 5: Compute Returns\n",
    "returns = compute_returns(df)\n",
    "returns.head()\n",
    "\n",
    "# Cell 6: Plot Prices and Returns\n",
    "plot_series(df, 'Adjusted Closing Prices', 'Price (USD)', out_path=FIGURES_DIR / 'prices.png')\n",
    "plot_series(returns, 'Daily Returns', 'Daily Return', out_path=FIGURES_DIR / 'daily_returns.png')\n",
    "\n",
    "# Cell 7: Rolling Statistics\n",
    "rm, rs = rolling_stats(df, window=ROLLING_WINDOW)\n",
    "rm.head(), rs.head()\n",
    "\n",
    "# Cell 8: Outlier Detection\n",
    "outliers = detect_outliers(returns)\n",
    "outliers\n",
    "\n",
    "# Cell 9: Stationarity Tests\n",
    "adf_close = adf_test(df['TSLA'])\n",
    "adf_returns = adf_test(returns['TSLA'])\n",
    "pd.DataFrame([adf_close, adf_returns], index=['TSLA_Close', 'TSLA_Returns'])\n",
    "\n",
    "# Cell 10: Risk Metrics\n",
    "metrics = {}\n",
    "for col in returns.columns:\n",
    "    r = returns[col]\n",
    "    metrics[col] = {\n",
    "        'sharpe': sharpe_ratio(r),\n",
    "        'var_95': value_at_risk(r, alpha=0.05),\n",
    "        'mean_daily_return': r.mean(),\n",
    "        'std_daily_return': r.std()\n",
    "    }\n",
    "pd.DataFrame(metrics).T"
   ]
  }
 ],
 "metadata": {
  "kernelspec": {
   "display_name": ".venv",
   "language": "python",
   "name": "python3"
  },
  "language_info": {
   "codemirror_mode": {
    "name": "ipython",
    "version": 3
   },
   "file_extension": ".py",
   "mimetype": "text/x-python",
   "name": "python",
   "nbconvert_exporter": "python",
   "pygments_lexer": "ipython3",
   "version": "3.13.3"
  }
 },
 "nbformat": 4,
 "nbformat_minor": 5
}
